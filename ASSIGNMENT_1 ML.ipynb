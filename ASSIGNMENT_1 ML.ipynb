{
  "cells": [
    {
      "cell_type": "code",
      "execution_count": 1,
      "metadata": {
        "id": "rIXKqOYdPU_l"
      },
      "outputs": [],
      "source": [
        "import pandas as pd\n",
        "import numpy as np\n",
        "%matplotlib inline"
      ]
    },
    {
      "cell_type": "code",
      "execution_count": 5,
      "metadata": {
        "colab": {
          "base_uri": "https://localhost:8080/",
          "height": 374
        },
        "id": "vmUBKNRaRlO3",
        "outputId": "7de94bcf-3ec5-4361-d309-f09c0b08f08e"
      },
      "outputs": [
        {
          "data": {
            "text/html": [
              "\n",
              "  <div id=\"df-42ba5589-192b-4a65-8194-d05cbb93261d\">\n",
              "    <div class=\"colab-df-container\">\n",
              "      <div>\n",
              "<style scoped>\n",
              "    .dataframe tbody tr th:only-of-type {\n",
              "        vertical-align: middle;\n",
              "    }\n",
              "\n",
              "    .dataframe tbody tr th {\n",
              "        vertical-align: top;\n",
              "    }\n",
              "\n",
              "    .dataframe thead th {\n",
              "        text-align: right;\n",
              "    }\n",
              "</style>\n",
              "<table border=\"1\" class=\"dataframe\">\n",
              "  <thead>\n",
              "    <tr style=\"text-align: right;\">\n",
              "      <th></th>\n",
              "      <th>Unnamed: 0</th>\n",
              "      <th>key</th>\n",
              "      <th>fare_amount</th>\n",
              "      <th>pickup_datetime</th>\n",
              "      <th>pickup_longitude</th>\n",
              "      <th>pickup_latitude</th>\n",
              "      <th>dropoff_longitude</th>\n",
              "      <th>dropoff_latitude</th>\n",
              "      <th>passenger_count</th>\n",
              "    </tr>\n",
              "  </thead>\n",
              "  <tbody>\n",
              "    <tr>\n",
              "      <th>0</th>\n",
              "      <td>24238194</td>\n",
              "      <td>2015-05-07 19:52:06.0000003</td>\n",
              "      <td>7.5</td>\n",
              "      <td>2015-05-07 19:52:06 UTC</td>\n",
              "      <td>-73.999817</td>\n",
              "      <td>40.738354</td>\n",
              "      <td>-73.999512</td>\n",
              "      <td>40.723217</td>\n",
              "      <td>1.0</td>\n",
              "    </tr>\n",
              "    <tr>\n",
              "      <th>1</th>\n",
              "      <td>27835199</td>\n",
              "      <td>2009-07-17 20:04:56.0000002</td>\n",
              "      <td>7.7</td>\n",
              "      <td>2009-07-17 20:04:56 UTC</td>\n",
              "      <td>-73.994355</td>\n",
              "      <td>40.728225</td>\n",
              "      <td>-73.994710</td>\n",
              "      <td>40.750325</td>\n",
              "      <td>1.0</td>\n",
              "    </tr>\n",
              "    <tr>\n",
              "      <th>2</th>\n",
              "      <td>44984355</td>\n",
              "      <td>2009-08-24 21:45:00.00000061</td>\n",
              "      <td>12.9</td>\n",
              "      <td>2009-08-24 21:45:00 UTC</td>\n",
              "      <td>-74.005043</td>\n",
              "      <td>40.740770</td>\n",
              "      <td>-73.962565</td>\n",
              "      <td>40.772647</td>\n",
              "      <td>1.0</td>\n",
              "    </tr>\n",
              "    <tr>\n",
              "      <th>3</th>\n",
              "      <td>25894730</td>\n",
              "      <td>2009-06-26 08:22:21.0000001</td>\n",
              "      <td>5.3</td>\n",
              "      <td>2009-06-26 08:22:21 UTC</td>\n",
              "      <td>-73.976124</td>\n",
              "      <td>40.790844</td>\n",
              "      <td>-73.965316</td>\n",
              "      <td>40.803349</td>\n",
              "      <td>3.0</td>\n",
              "    </tr>\n",
              "    <tr>\n",
              "      <th>4</th>\n",
              "      <td>17610152</td>\n",
              "      <td>2014-08-28 17:47:00.000000188</td>\n",
              "      <td>16.0</td>\n",
              "      <td>2014-08-28 17:47:00 UTC</td>\n",
              "      <td>-73.925023</td>\n",
              "      <td>40.744085</td>\n",
              "      <td>-73.973082</td>\n",
              "      <td>40.761247</td>\n",
              "      <td>5.0</td>\n",
              "    </tr>\n",
              "  </tbody>\n",
              "</table>\n",
              "</div>\n",
              "      <button class=\"colab-df-convert\" onclick=\"convertToInteractive('df-42ba5589-192b-4a65-8194-d05cbb93261d')\"\n",
              "              title=\"Convert this dataframe to an interactive table.\"\n",
              "              style=\"display:none;\">\n",
              "        \n",
              "  <svg xmlns=\"http://www.w3.org/2000/svg\" height=\"24px\"viewBox=\"0 0 24 24\"\n",
              "       width=\"24px\">\n",
              "    <path d=\"M0 0h24v24H0V0z\" fill=\"none\"/>\n",
              "    <path d=\"M18.56 5.44l.94 2.06.94-2.06 2.06-.94-2.06-.94-.94-2.06-.94 2.06-2.06.94zm-11 1L8.5 8.5l.94-2.06 2.06-.94-2.06-.94L8.5 2.5l-.94 2.06-2.06.94zm10 10l.94 2.06.94-2.06 2.06-.94-2.06-.94-.94-2.06-.94 2.06-2.06.94z\"/><path d=\"M17.41 7.96l-1.37-1.37c-.4-.4-.92-.59-1.43-.59-.52 0-1.04.2-1.43.59L10.3 9.45l-7.72 7.72c-.78.78-.78 2.05 0 2.83L4 21.41c.39.39.9.59 1.41.59.51 0 1.02-.2 1.41-.59l7.78-7.78 2.81-2.81c.8-.78.8-2.07 0-2.86zM5.41 20L4 18.59l7.72-7.72 1.47 1.35L5.41 20z\"/>\n",
              "  </svg>\n",
              "      </button>\n",
              "      \n",
              "  <style>\n",
              "    .colab-df-container {\n",
              "      display:flex;\n",
              "      flex-wrap:wrap;\n",
              "      gap: 12px;\n",
              "    }\n",
              "\n",
              "    .colab-df-convert {\n",
              "      background-color: #E8F0FE;\n",
              "      border: none;\n",
              "      border-radius: 50%;\n",
              "      cursor: pointer;\n",
              "      display: none;\n",
              "      fill: #1967D2;\n",
              "      height: 32px;\n",
              "      padding: 0 0 0 0;\n",
              "      width: 32px;\n",
              "    }\n",
              "\n",
              "    .colab-df-convert:hover {\n",
              "      background-color: #E2EBFA;\n",
              "      box-shadow: 0px 1px 2px rgba(60, 64, 67, 0.3), 0px 1px 3px 1px rgba(60, 64, 67, 0.15);\n",
              "      fill: #174EA6;\n",
              "    }\n",
              "\n",
              "    [theme=dark] .colab-df-convert {\n",
              "      background-color: #3B4455;\n",
              "      fill: #D2E3FC;\n",
              "    }\n",
              "\n",
              "    [theme=dark] .colab-df-convert:hover {\n",
              "      background-color: #434B5C;\n",
              "      box-shadow: 0px 1px 3px 1px rgba(0, 0, 0, 0.15);\n",
              "      filter: drop-shadow(0px 1px 2px rgba(0, 0, 0, 0.3));\n",
              "      fill: #FFFFFF;\n",
              "    }\n",
              "  </style>\n",
              "\n",
              "      <script>\n",
              "        const buttonEl =\n",
              "          document.querySelector('#df-42ba5589-192b-4a65-8194-d05cbb93261d button.colab-df-convert');\n",
              "        buttonEl.style.display =\n",
              "          google.colab.kernel.accessAllowed ? 'block' : 'none';\n",
              "\n",
              "        async function convertToInteractive(key) {\n",
              "          const element = document.querySelector('#df-42ba5589-192b-4a65-8194-d05cbb93261d');\n",
              "          const dataTable =\n",
              "            await google.colab.kernel.invokeFunction('convertToInteractive',\n",
              "                                                     [key], {});\n",
              "          if (!dataTable) return;\n",
              "\n",
              "          const docLinkHtml = 'Like what you see? Visit the ' +\n",
              "            '<a target=\"_blank\" href=https://colab.research.google.com/notebooks/data_table.ipynb>data table notebook</a>'\n",
              "            + ' to learn more about interactive tables.';\n",
              "          element.innerHTML = '';\n",
              "          dataTable['output_type'] = 'display_data';\n",
              "          await google.colab.output.renderOutput(dataTable, element);\n",
              "          const docLink = document.createElement('div');\n",
              "          docLink.innerHTML = docLinkHtml;\n",
              "          element.appendChild(docLink);\n",
              "        }\n",
              "      </script>\n",
              "    </div>\n",
              "  </div>\n",
              "  "
            ],
            "text/plain": [
              "   Unnamed: 0                            key  fare_amount  \\\n",
              "0    24238194    2015-05-07 19:52:06.0000003          7.5   \n",
              "1    27835199    2009-07-17 20:04:56.0000002          7.7   \n",
              "2    44984355   2009-08-24 21:45:00.00000061         12.9   \n",
              "3    25894730    2009-06-26 08:22:21.0000001          5.3   \n",
              "4    17610152  2014-08-28 17:47:00.000000188         16.0   \n",
              "\n",
              "           pickup_datetime  pickup_longitude  pickup_latitude  \\\n",
              "0  2015-05-07 19:52:06 UTC        -73.999817        40.738354   \n",
              "1  2009-07-17 20:04:56 UTC        -73.994355        40.728225   \n",
              "2  2009-08-24 21:45:00 UTC        -74.005043        40.740770   \n",
              "3  2009-06-26 08:22:21 UTC        -73.976124        40.790844   \n",
              "4  2014-08-28 17:47:00 UTC        -73.925023        40.744085   \n",
              "\n",
              "   dropoff_longitude  dropoff_latitude  passenger_count  \n",
              "0         -73.999512         40.723217              1.0  \n",
              "1         -73.994710         40.750325              1.0  \n",
              "2         -73.962565         40.772647              1.0  \n",
              "3         -73.965316         40.803349              3.0  \n",
              "4         -73.973082         40.761247              5.0  "
            ]
          },
          "execution_count": 5,
          "metadata": {},
          "output_type": "execute_result"
        }
      ],
      "source": [
        "uber = pd.read_csv(\"uber.csv\")\n",
        "uber.head()"
      ]
    },
    {
      "cell_type": "code",
      "execution_count": 6,
      "metadata": {
        "colab": {
          "base_uri": "https://localhost:8080/"
        },
        "id": "-RO6LuOhRneW",
        "outputId": "d109e01c-6f40-4a87-af56-730363e5ced2"
      },
      "outputs": [
        {
          "name": "stdout",
          "output_type": "stream",
          "text": [
            "<class 'pandas.core.frame.DataFrame'>\n",
            "RangeIndex: 71466 entries, 0 to 71465\n",
            "Data columns (total 9 columns):\n",
            " #   Column             Non-Null Count  Dtype  \n",
            "---  ------             --------------  -----  \n",
            " 0   Unnamed: 0         71466 non-null  int64  \n",
            " 1   key                71465 non-null  object \n",
            " 2   fare_amount        71465 non-null  float64\n",
            " 3   pickup_datetime    71465 non-null  object \n",
            " 4   pickup_longitude   71465 non-null  float64\n",
            " 5   pickup_latitude    71465 non-null  float64\n",
            " 6   dropoff_longitude  71465 non-null  float64\n",
            " 7   dropoff_latitude   71465 non-null  float64\n",
            " 8   passenger_count    71465 non-null  float64\n",
            "dtypes: float64(6), int64(1), object(2)\n",
            "memory usage: 4.9+ MB\n"
          ]
        }
      ],
      "source": [
        "uber.info()"
      ]
    },
    {
      "cell_type": "code",
      "execution_count": 7,
      "metadata": {
        "id": "vnYV2EApRu_e"
      },
      "outputs": [],
      "source": [
        "uber.drop([\"key\", \"pickup_datetime\"], axis=1, inplace=True)"
      ]
    },
    {
      "cell_type": "code",
      "execution_count": 8,
      "metadata": {
        "colab": {
          "base_uri": "https://localhost:8080/",
          "height": 344
        },
        "id": "buNorcriR1vY",
        "outputId": "6ed60792-3754-4930-d3f0-4980de298367"
      },
      "outputs": [
        {
          "data": {
            "text/html": [
              "\n",
              "  <div id=\"df-1126d4aa-fefe-48f9-b78f-5b78e5b4fd94\">\n",
              "    <div class=\"colab-df-container\">\n",
              "      <div>\n",
              "<style scoped>\n",
              "    .dataframe tbody tr th:only-of-type {\n",
              "        vertical-align: middle;\n",
              "    }\n",
              "\n",
              "    .dataframe tbody tr th {\n",
              "        vertical-align: top;\n",
              "    }\n",
              "\n",
              "    .dataframe thead th {\n",
              "        text-align: right;\n",
              "    }\n",
              "</style>\n",
              "<table border=\"1\" class=\"dataframe\">\n",
              "  <thead>\n",
              "    <tr style=\"text-align: right;\">\n",
              "      <th></th>\n",
              "      <th>Unnamed: 0</th>\n",
              "      <th>fare_amount</th>\n",
              "      <th>pickup_longitude</th>\n",
              "      <th>pickup_latitude</th>\n",
              "      <th>dropoff_longitude</th>\n",
              "      <th>dropoff_latitude</th>\n",
              "      <th>passenger_count</th>\n",
              "    </tr>\n",
              "  </thead>\n",
              "  <tbody>\n",
              "    <tr>\n",
              "      <th>count</th>\n",
              "      <td>7.146600e+04</td>\n",
              "      <td>71465.000000</td>\n",
              "      <td>71465.000000</td>\n",
              "      <td>71465.000000</td>\n",
              "      <td>71465.000000</td>\n",
              "      <td>71465.000000</td>\n",
              "      <td>71465.000000</td>\n",
              "    </tr>\n",
              "    <tr>\n",
              "      <th>mean</th>\n",
              "      <td>2.770109e+07</td>\n",
              "      <td>11.369363</td>\n",
              "      <td>-72.552753</td>\n",
              "      <td>39.946339</td>\n",
              "      <td>-72.565751</td>\n",
              "      <td>39.944831</td>\n",
              "      <td>1.675995</td>\n",
              "    </tr>\n",
              "    <tr>\n",
              "      <th>std</th>\n",
              "      <td>1.601735e+07</td>\n",
              "      <td>9.918296</td>\n",
              "      <td>10.936267</td>\n",
              "      <td>6.391720</td>\n",
              "      <td>10.563282</td>\n",
              "      <td>6.069283</td>\n",
              "      <td>1.297039</td>\n",
              "    </tr>\n",
              "    <tr>\n",
              "      <th>min</th>\n",
              "      <td>4.800000e+01</td>\n",
              "      <td>-5.000000</td>\n",
              "      <td>-748.016667</td>\n",
              "      <td>-74.015515</td>\n",
              "      <td>-737.916665</td>\n",
              "      <td>-74.009465</td>\n",
              "      <td>0.000000</td>\n",
              "    </tr>\n",
              "    <tr>\n",
              "      <th>25%</th>\n",
              "      <td>1.384615e+07</td>\n",
              "      <td>6.000000</td>\n",
              "      <td>-73.992086</td>\n",
              "      <td>40.734776</td>\n",
              "      <td>-73.991446</td>\n",
              "      <td>40.733673</td>\n",
              "      <td>1.000000</td>\n",
              "    </tr>\n",
              "    <tr>\n",
              "      <th>50%</th>\n",
              "      <td>2.765386e+07</td>\n",
              "      <td>8.500000</td>\n",
              "      <td>-73.981821</td>\n",
              "      <td>40.752545</td>\n",
              "      <td>-73.980143</td>\n",
              "      <td>40.752975</td>\n",
              "      <td>1.000000</td>\n",
              "    </tr>\n",
              "    <tr>\n",
              "      <th>75%</th>\n",
              "      <td>4.151441e+07</td>\n",
              "      <td>12.500000</td>\n",
              "      <td>-73.967252</td>\n",
              "      <td>40.767110</td>\n",
              "      <td>-73.963777</td>\n",
              "      <td>40.768088</td>\n",
              "      <td>2.000000</td>\n",
              "    </tr>\n",
              "    <tr>\n",
              "      <th>max</th>\n",
              "      <td>5.542169e+07</td>\n",
              "      <td>350.000000</td>\n",
              "      <td>40.808425</td>\n",
              "      <td>404.433332</td>\n",
              "      <td>40.828377</td>\n",
              "      <td>45.031598</td>\n",
              "      <td>6.000000</td>\n",
              "    </tr>\n",
              "  </tbody>\n",
              "</table>\n",
              "</div>\n",
              "      <button class=\"colab-df-convert\" onclick=\"convertToInteractive('df-1126d4aa-fefe-48f9-b78f-5b78e5b4fd94')\"\n",
              "              title=\"Convert this dataframe to an interactive table.\"\n",
              "              style=\"display:none;\">\n",
              "        \n",
              "  <svg xmlns=\"http://www.w3.org/2000/svg\" height=\"24px\"viewBox=\"0 0 24 24\"\n",
              "       width=\"24px\">\n",
              "    <path d=\"M0 0h24v24H0V0z\" fill=\"none\"/>\n",
              "    <path d=\"M18.56 5.44l.94 2.06.94-2.06 2.06-.94-2.06-.94-.94-2.06-.94 2.06-2.06.94zm-11 1L8.5 8.5l.94-2.06 2.06-.94-2.06-.94L8.5 2.5l-.94 2.06-2.06.94zm10 10l.94 2.06.94-2.06 2.06-.94-2.06-.94-.94-2.06-.94 2.06-2.06.94z\"/><path d=\"M17.41 7.96l-1.37-1.37c-.4-.4-.92-.59-1.43-.59-.52 0-1.04.2-1.43.59L10.3 9.45l-7.72 7.72c-.78.78-.78 2.05 0 2.83L4 21.41c.39.39.9.59 1.41.59.51 0 1.02-.2 1.41-.59l7.78-7.78 2.81-2.81c.8-.78.8-2.07 0-2.86zM5.41 20L4 18.59l7.72-7.72 1.47 1.35L5.41 20z\"/>\n",
              "  </svg>\n",
              "      </button>\n",
              "      \n",
              "  <style>\n",
              "    .colab-df-container {\n",
              "      display:flex;\n",
              "      flex-wrap:wrap;\n",
              "      gap: 12px;\n",
              "    }\n",
              "\n",
              "    .colab-df-convert {\n",
              "      background-color: #E8F0FE;\n",
              "      border: none;\n",
              "      border-radius: 50%;\n",
              "      cursor: pointer;\n",
              "      display: none;\n",
              "      fill: #1967D2;\n",
              "      height: 32px;\n",
              "      padding: 0 0 0 0;\n",
              "      width: 32px;\n",
              "    }\n",
              "\n",
              "    .colab-df-convert:hover {\n",
              "      background-color: #E2EBFA;\n",
              "      box-shadow: 0px 1px 2px rgba(60, 64, 67, 0.3), 0px 1px 3px 1px rgba(60, 64, 67, 0.15);\n",
              "      fill: #174EA6;\n",
              "    }\n",
              "\n",
              "    [theme=dark] .colab-df-convert {\n",
              "      background-color: #3B4455;\n",
              "      fill: #D2E3FC;\n",
              "    }\n",
              "\n",
              "    [theme=dark] .colab-df-convert:hover {\n",
              "      background-color: #434B5C;\n",
              "      box-shadow: 0px 1px 3px 1px rgba(0, 0, 0, 0.15);\n",
              "      filter: drop-shadow(0px 1px 2px rgba(0, 0, 0, 0.3));\n",
              "      fill: #FFFFFF;\n",
              "    }\n",
              "  </style>\n",
              "\n",
              "      <script>\n",
              "        const buttonEl =\n",
              "          document.querySelector('#df-1126d4aa-fefe-48f9-b78f-5b78e5b4fd94 button.colab-df-convert');\n",
              "        buttonEl.style.display =\n",
              "          google.colab.kernel.accessAllowed ? 'block' : 'none';\n",
              "\n",
              "        async function convertToInteractive(key) {\n",
              "          const element = document.querySelector('#df-1126d4aa-fefe-48f9-b78f-5b78e5b4fd94');\n",
              "          const dataTable =\n",
              "            await google.colab.kernel.invokeFunction('convertToInteractive',\n",
              "                                                     [key], {});\n",
              "          if (!dataTable) return;\n",
              "\n",
              "          const docLinkHtml = 'Like what you see? Visit the ' +\n",
              "            '<a target=\"_blank\" href=https://colab.research.google.com/notebooks/data_table.ipynb>data table notebook</a>'\n",
              "            + ' to learn more about interactive tables.';\n",
              "          element.innerHTML = '';\n",
              "          dataTable['output_type'] = 'display_data';\n",
              "          await google.colab.output.renderOutput(dataTable, element);\n",
              "          const docLink = document.createElement('div');\n",
              "          docLink.innerHTML = docLinkHtml;\n",
              "          element.appendChild(docLink);\n",
              "        }\n",
              "      </script>\n",
              "    </div>\n",
              "  </div>\n",
              "  "
            ],
            "text/plain": [
              "         Unnamed: 0   fare_amount  pickup_longitude  pickup_latitude  \\\n",
              "count  7.146600e+04  71465.000000      71465.000000     71465.000000   \n",
              "mean   2.770109e+07     11.369363        -72.552753        39.946339   \n",
              "std    1.601735e+07      9.918296         10.936267         6.391720   \n",
              "min    4.800000e+01     -5.000000       -748.016667       -74.015515   \n",
              "25%    1.384615e+07      6.000000        -73.992086        40.734776   \n",
              "50%    2.765386e+07      8.500000        -73.981821        40.752545   \n",
              "75%    4.151441e+07     12.500000        -73.967252        40.767110   \n",
              "max    5.542169e+07    350.000000         40.808425       404.433332   \n",
              "\n",
              "       dropoff_longitude  dropoff_latitude  passenger_count  \n",
              "count       71465.000000      71465.000000     71465.000000  \n",
              "mean          -72.565751         39.944831         1.675995  \n",
              "std            10.563282          6.069283         1.297039  \n",
              "min          -737.916665        -74.009465         0.000000  \n",
              "25%           -73.991446         40.733673         1.000000  \n",
              "50%           -73.980143         40.752975         1.000000  \n",
              "75%           -73.963777         40.768088         2.000000  \n",
              "max            40.828377         45.031598         6.000000  "
            ]
          },
          "execution_count": 8,
          "metadata": {},
          "output_type": "execute_result"
        }
      ],
      "source": [
        "uber.describe()"
      ]
    },
    {
      "cell_type": "code",
      "execution_count": 9,
      "metadata": {
        "colab": {
          "base_uri": "https://localhost:8080/"
        },
        "id": "auw_nzpbR4Vk",
        "outputId": "f25c49de-7285-45ee-a666-4550e29911b0"
      },
      "outputs": [
        {
          "data": {
            "text/plain": [
              "SimpleImputer(strategy='median')"
            ]
          },
          "execution_count": 9,
          "metadata": {},
          "output_type": "execute_result"
        }
      ],
      "source": [
        "from sklearn.impute import SimpleImputer\n",
        "fill_median = SimpleImputer(strategy=\"median\")\n",
        "fill_median.fit(uber)"
      ]
    },
    {
      "cell_type": "code",
      "execution_count": 10,
      "metadata": {
        "id": "Peu5reBYSBji"
      },
      "outputs": [],
      "source": [
        "uber_tr = fill_median.transform(uber)"
      ]
    },
    {
      "cell_type": "code",
      "execution_count": 11,
      "metadata": {
        "id": "MVNsRw1rSIne"
      },
      "outputs": [],
      "source": [
        "uber_preprocessed = pd.DataFrame(uber_tr, columns=uber.columns)"
      ]
    },
    {
      "cell_type": "code",
      "execution_count": 12,
      "metadata": {
        "colab": {
          "base_uri": "https://localhost:8080/"
        },
        "id": "WaLdy4p_SNAX",
        "outputId": "a976ac68-1bc4-4f35-8c30-9c8d46734908"
      },
      "outputs": [
        {
          "name": "stdout",
          "output_type": "stream",
          "text": [
            "<class 'pandas.core.frame.DataFrame'>\n",
            "RangeIndex: 71466 entries, 0 to 71465\n",
            "Data columns (total 7 columns):\n",
            " #   Column             Non-Null Count  Dtype  \n",
            "---  ------             --------------  -----  \n",
            " 0   Unnamed: 0         71466 non-null  float64\n",
            " 1   fare_amount        71466 non-null  float64\n",
            " 2   pickup_longitude   71466 non-null  float64\n",
            " 3   pickup_latitude    71466 non-null  float64\n",
            " 4   dropoff_longitude  71466 non-null  float64\n",
            " 5   dropoff_latitude   71466 non-null  float64\n",
            " 6   passenger_count    71466 non-null  float64\n",
            "dtypes: float64(7)\n",
            "memory usage: 3.8 MB\n"
          ]
        }
      ],
      "source": [
        "uber_preprocessed.info()"
      ]
    },
    {
      "cell_type": "code",
      "execution_count": 13,
      "metadata": {
        "colab": {
          "base_uri": "https://localhost:8080/",
          "height": 344
        },
        "id": "G1BQP1aJSRJ1",
        "outputId": "2c421d92-2a72-47a4-e44a-1156fd138643"
      },
      "outputs": [
        {
          "data": {
            "text/html": [
              "\n",
              "  <div id=\"df-f92efdc1-4ac4-48b3-b027-d2ddebc1b3ce\">\n",
              "    <div class=\"colab-df-container\">\n",
              "      <div>\n",
              "<style scoped>\n",
              "    .dataframe tbody tr th:only-of-type {\n",
              "        vertical-align: middle;\n",
              "    }\n",
              "\n",
              "    .dataframe tbody tr th {\n",
              "        vertical-align: top;\n",
              "    }\n",
              "\n",
              "    .dataframe thead th {\n",
              "        text-align: right;\n",
              "    }\n",
              "</style>\n",
              "<table border=\"1\" class=\"dataframe\">\n",
              "  <thead>\n",
              "    <tr style=\"text-align: right;\">\n",
              "      <th></th>\n",
              "      <th>Unnamed: 0</th>\n",
              "      <th>fare_amount</th>\n",
              "      <th>pickup_longitude</th>\n",
              "      <th>pickup_latitude</th>\n",
              "      <th>dropoff_longitude</th>\n",
              "      <th>dropoff_latitude</th>\n",
              "      <th>passenger_count</th>\n",
              "    </tr>\n",
              "  </thead>\n",
              "  <tbody>\n",
              "    <tr>\n",
              "      <th>count</th>\n",
              "      <td>7.146600e+04</td>\n",
              "      <td>71466.000000</td>\n",
              "      <td>71466.000000</td>\n",
              "      <td>71466.000000</td>\n",
              "      <td>71466.000000</td>\n",
              "      <td>71466.000000</td>\n",
              "      <td>71466.000000</td>\n",
              "    </tr>\n",
              "    <tr>\n",
              "      <th>mean</th>\n",
              "      <td>2.770109e+07</td>\n",
              "      <td>11.369323</td>\n",
              "      <td>-72.552773</td>\n",
              "      <td>39.946350</td>\n",
              "      <td>-72.565771</td>\n",
              "      <td>39.944842</td>\n",
              "      <td>1.675986</td>\n",
              "    </tr>\n",
              "    <tr>\n",
              "      <th>std</th>\n",
              "      <td>1.601735e+07</td>\n",
              "      <td>9.918232</td>\n",
              "      <td>10.936192</td>\n",
              "      <td>6.391676</td>\n",
              "      <td>10.563209</td>\n",
              "      <td>6.069242</td>\n",
              "      <td>1.297033</td>\n",
              "    </tr>\n",
              "    <tr>\n",
              "      <th>min</th>\n",
              "      <td>4.800000e+01</td>\n",
              "      <td>-5.000000</td>\n",
              "      <td>-748.016667</td>\n",
              "      <td>-74.015515</td>\n",
              "      <td>-737.916665</td>\n",
              "      <td>-74.009465</td>\n",
              "      <td>0.000000</td>\n",
              "    </tr>\n",
              "    <tr>\n",
              "      <th>25%</th>\n",
              "      <td>1.384615e+07</td>\n",
              "      <td>6.000000</td>\n",
              "      <td>-73.992086</td>\n",
              "      <td>40.734776</td>\n",
              "      <td>-73.991446</td>\n",
              "      <td>40.733673</td>\n",
              "      <td>1.000000</td>\n",
              "    </tr>\n",
              "    <tr>\n",
              "      <th>50%</th>\n",
              "      <td>2.765386e+07</td>\n",
              "      <td>8.500000</td>\n",
              "      <td>-73.981821</td>\n",
              "      <td>40.752545</td>\n",
              "      <td>-73.980143</td>\n",
              "      <td>40.752975</td>\n",
              "      <td>1.000000</td>\n",
              "    </tr>\n",
              "    <tr>\n",
              "      <th>75%</th>\n",
              "      <td>4.151441e+07</td>\n",
              "      <td>12.500000</td>\n",
              "      <td>-73.967252</td>\n",
              "      <td>40.767110</td>\n",
              "      <td>-73.963777</td>\n",
              "      <td>40.768088</td>\n",
              "      <td>2.000000</td>\n",
              "    </tr>\n",
              "    <tr>\n",
              "      <th>max</th>\n",
              "      <td>5.542169e+07</td>\n",
              "      <td>350.000000</td>\n",
              "      <td>40.808425</td>\n",
              "      <td>404.433332</td>\n",
              "      <td>40.828377</td>\n",
              "      <td>45.031598</td>\n",
              "      <td>6.000000</td>\n",
              "    </tr>\n",
              "  </tbody>\n",
              "</table>\n",
              "</div>\n",
              "      <button class=\"colab-df-convert\" onclick=\"convertToInteractive('df-f92efdc1-4ac4-48b3-b027-d2ddebc1b3ce')\"\n",
              "              title=\"Convert this dataframe to an interactive table.\"\n",
              "              style=\"display:none;\">\n",
              "        \n",
              "  <svg xmlns=\"http://www.w3.org/2000/svg\" height=\"24px\"viewBox=\"0 0 24 24\"\n",
              "       width=\"24px\">\n",
              "    <path d=\"M0 0h24v24H0V0z\" fill=\"none\"/>\n",
              "    <path d=\"M18.56 5.44l.94 2.06.94-2.06 2.06-.94-2.06-.94-.94-2.06-.94 2.06-2.06.94zm-11 1L8.5 8.5l.94-2.06 2.06-.94-2.06-.94L8.5 2.5l-.94 2.06-2.06.94zm10 10l.94 2.06.94-2.06 2.06-.94-2.06-.94-.94-2.06-.94 2.06-2.06.94z\"/><path d=\"M17.41 7.96l-1.37-1.37c-.4-.4-.92-.59-1.43-.59-.52 0-1.04.2-1.43.59L10.3 9.45l-7.72 7.72c-.78.78-.78 2.05 0 2.83L4 21.41c.39.39.9.59 1.41.59.51 0 1.02-.2 1.41-.59l7.78-7.78 2.81-2.81c.8-.78.8-2.07 0-2.86zM5.41 20L4 18.59l7.72-7.72 1.47 1.35L5.41 20z\"/>\n",
              "  </svg>\n",
              "      </button>\n",
              "      \n",
              "  <style>\n",
              "    .colab-df-container {\n",
              "      display:flex;\n",
              "      flex-wrap:wrap;\n",
              "      gap: 12px;\n",
              "    }\n",
              "\n",
              "    .colab-df-convert {\n",
              "      background-color: #E8F0FE;\n",
              "      border: none;\n",
              "      border-radius: 50%;\n",
              "      cursor: pointer;\n",
              "      display: none;\n",
              "      fill: #1967D2;\n",
              "      height: 32px;\n",
              "      padding: 0 0 0 0;\n",
              "      width: 32px;\n",
              "    }\n",
              "\n",
              "    .colab-df-convert:hover {\n",
              "      background-color: #E2EBFA;\n",
              "      box-shadow: 0px 1px 2px rgba(60, 64, 67, 0.3), 0px 1px 3px 1px rgba(60, 64, 67, 0.15);\n",
              "      fill: #174EA6;\n",
              "    }\n",
              "\n",
              "    [theme=dark] .colab-df-convert {\n",
              "      background-color: #3B4455;\n",
              "      fill: #D2E3FC;\n",
              "    }\n",
              "\n",
              "    [theme=dark] .colab-df-convert:hover {\n",
              "      background-color: #434B5C;\n",
              "      box-shadow: 0px 1px 3px 1px rgba(0, 0, 0, 0.15);\n",
              "      filter: drop-shadow(0px 1px 2px rgba(0, 0, 0, 0.3));\n",
              "      fill: #FFFFFF;\n",
              "    }\n",
              "  </style>\n",
              "\n",
              "      <script>\n",
              "        const buttonEl =\n",
              "          document.querySelector('#df-f92efdc1-4ac4-48b3-b027-d2ddebc1b3ce button.colab-df-convert');\n",
              "        buttonEl.style.display =\n",
              "          google.colab.kernel.accessAllowed ? 'block' : 'none';\n",
              "\n",
              "        async function convertToInteractive(key) {\n",
              "          const element = document.querySelector('#df-f92efdc1-4ac4-48b3-b027-d2ddebc1b3ce');\n",
              "          const dataTable =\n",
              "            await google.colab.kernel.invokeFunction('convertToInteractive',\n",
              "                                                     [key], {});\n",
              "          if (!dataTable) return;\n",
              "\n",
              "          const docLinkHtml = 'Like what you see? Visit the ' +\n",
              "            '<a target=\"_blank\" href=https://colab.research.google.com/notebooks/data_table.ipynb>data table notebook</a>'\n",
              "            + ' to learn more about interactive tables.';\n",
              "          element.innerHTML = '';\n",
              "          dataTable['output_type'] = 'display_data';\n",
              "          await google.colab.output.renderOutput(dataTable, element);\n",
              "          const docLink = document.createElement('div');\n",
              "          docLink.innerHTML = docLinkHtml;\n",
              "          element.appendChild(docLink);\n",
              "        }\n",
              "      </script>\n",
              "    </div>\n",
              "  </div>\n",
              "  "
            ],
            "text/plain": [
              "         Unnamed: 0   fare_amount  pickup_longitude  pickup_latitude  \\\n",
              "count  7.146600e+04  71466.000000      71466.000000     71466.000000   \n",
              "mean   2.770109e+07     11.369323        -72.552773        39.946350   \n",
              "std    1.601735e+07      9.918232         10.936192         6.391676   \n",
              "min    4.800000e+01     -5.000000       -748.016667       -74.015515   \n",
              "25%    1.384615e+07      6.000000        -73.992086        40.734776   \n",
              "50%    2.765386e+07      8.500000        -73.981821        40.752545   \n",
              "75%    4.151441e+07     12.500000        -73.967252        40.767110   \n",
              "max    5.542169e+07    350.000000         40.808425       404.433332   \n",
              "\n",
              "       dropoff_longitude  dropoff_latitude  passenger_count  \n",
              "count       71466.000000      71466.000000     71466.000000  \n",
              "mean          -72.565771         39.944842         1.675986  \n",
              "std            10.563209          6.069242         1.297033  \n",
              "min          -737.916665        -74.009465         0.000000  \n",
              "25%           -73.991446         40.733673         1.000000  \n",
              "50%           -73.980143         40.752975         1.000000  \n",
              "75%           -73.963777         40.768088         2.000000  \n",
              "max            40.828377         45.031598         6.000000  "
            ]
          },
          "execution_count": 13,
          "metadata": {},
          "output_type": "execute_result"
        }
      ],
      "source": [
        "uber_preprocessed.describe()"
      ]
    },
    {
      "cell_type": "code",
      "execution_count": 14,
      "metadata": {
        "colab": {
          "base_uri": "https://localhost:8080/"
        },
        "id": "R4UlToHhSXbw",
        "outputId": "893349eb-ff37-428f-acce-e5cac60152ec"
      },
      "outputs": [
        {
          "data": {
            "text/plain": [
              "fare_amount          1.000000\n",
              "dropoff_longitude    0.019533\n",
              "pickup_longitude     0.016528\n",
              "passenger_count      0.008824\n",
              "Unnamed: 0           0.004265\n",
              "pickup_latitude     -0.017915\n",
              "dropoff_latitude    -0.019877\n",
              "Name: fare_amount, dtype: float64"
            ]
          },
          "execution_count": 14,
          "metadata": {},
          "output_type": "execute_result"
        }
      ],
      "source": [
        "corr_matrix = uber_preprocessed.corr()\n",
        "corr_matrix[\"fare_amount\"].sort_values(ascending=False)"
      ]
    },
    {
      "cell_type": "code",
      "execution_count": 15,
      "metadata": {
        "colab": {
          "base_uri": "https://localhost:8080/",
          "height": 297
        },
        "id": "gFV663pbSZc_",
        "outputId": "d5d0018c-0087-4fcf-b5d2-08970672daa2"
      },
      "outputs": [
        {
          "data": {
            "text/plain": [
              "<matplotlib.axes._subplots.AxesSubplot at 0x7fb6f0f38490>"
            ]
          },
          "execution_count": 15,
          "metadata": {},
          "output_type": "execute_result"
        },
        {
          "data": {
            "image/png": "[encoded data removed]",
            "text/plain": [
              "<Figure size 432x288 with 1 Axes>"
            ]
          },
          "metadata": {
            "needs_background": "light"
          },
          "output_type": "display_data"
        }
      ],
      "source": [
        "uber_preprocessed.plot(kind=\"scatter\", x=\"pickup_longitude\", y=\"fare_amount\", alpha=0.8)"
      ]
    },
    {
      "cell_type": "code",
      "execution_count": 16,
      "metadata": {
        "colab": {
          "base_uri": "https://localhost:8080/",
          "height": 297
        },
        "id": "WPeELvEySj3u",
        "outputId": "2e9e8256-5b02-46aa-b50b-59a66660fef8"
      },
      "outputs": [
        {
          "data": {
            "text/plain": [
              "<matplotlib.axes._subplots.AxesSubplot at 0x7fb6f0ea5950>"
            ]
          },
          "execution_count": 16,
          "metadata": {},
          "output_type": "execute_result"
        },
        {
          "data": {
            "image/png": "[encoded data removed]",
            "text/plain": [
              "<Figure size 432x288 with 1 Axes>"
            ]
          },
          "metadata": {
            "needs_background": "light"
          },
          "output_type": "display_data"
        }
      ],
      "source": [
        "uber_preprocessed.plot(kind=\"scatter\", x=\"pickup_latitude\", y=\"fare_amount\", alpha=0.8)"
      ]
    },
    {
      "cell_type": "code",
      "execution_count": 17,
      "metadata": {
        "colab": {
          "base_uri": "https://localhost:8080/",
          "height": 297
        },
        "id": "fZ5kdHAUSoN0",
        "outputId": "c1664612-0a92-4486-d5c1-8ea13b2a96a4"
      },
      "outputs": [
        {
          "data": {
            "text/plain": [
              "<matplotlib.axes._subplots.AxesSubplot at 0x7fb6f09d4f10>"
            ]
          },
          "execution_count": 17,
          "metadata": {},
          "output_type": "execute_result"
        },
        {
          "data": {
            "image/png": "[encoded data removed]",
            "text/plain": [
              "<Figure size 432x288 with 1 Axes>"
            ]
          },
          "metadata": {
            "needs_background": "light"
          },
          "output_type": "display_data"
        }
      ],
      "source": [
        "uber_preprocessed.plot(kind=\"scatter\", x=\"dropoff_longitude\", y=\"fare_amount\", alpha=0.8)"
      ]
    },
    {
      "cell_type": "code",
      "execution_count": 18,
      "metadata": {
        "colab": {
          "base_uri": "https://localhost:8080/",
          "height": 297
        },
        "id": "ASume7WESvhI",
        "outputId": "a6adebd3-0e56-48ec-aedf-f2ff24d1d3bb"
      },
      "outputs": [
        {
          "data": {
            "text/plain": [
              "<matplotlib.axes._subplots.AxesSubplot at 0x7fb6f0e8eed0>"
            ]
          },
          "execution_count": 18,
          "metadata": {},
          "output_type": "execute_result"
        },
        {
          "data": {
            "image/png": "[encoded data removed]",
            "text/plain": [
              "<Figure size 432x288 with 1 Axes>"
            ]
          },
          "metadata": {
            "needs_background": "light"
          },
          "output_type": "display_data"
        }
      ],
      "source": [
        "uber_preprocessed.plot(kind=\"scatter\", x=\"dropoff_latitude\", y=\"fare_amount\", alpha=0.8)\n",
        "\n"
      ]
    },
    {
      "cell_type": "code",
      "execution_count": 19,
      "metadata": {
        "id": "XroqTpR0S8SL"
      },
      "outputs": [],
      "source": [
        "uber_features = uber_preprocessed.drop(\"fare_amount\", axis=1).copy()\n",
        "uber_labels = uber_preprocessed[\"fare_amount\"].copy()"
      ]
    },
    {
      "cell_type": "code",
      "execution_count": 20,
      "metadata": {
        "colab": {
          "base_uri": "https://localhost:8080/"
        },
        "id": "H375yWInS_0o",
        "outputId": "6e09849c-1fd3-4cdf-c2dd-4f9d6c54a8da"
      },
      "outputs": [
        {
          "data": {
            "text/plain": [
              "(71466,)"
            ]
          },
          "execution_count": 20,
          "metadata": {},
          "output_type": "execute_result"
        }
      ],
      "source": [
        "uber_labels.shape"
      ]
    },
    {
      "cell_type": "code",
      "execution_count": 21,
      "metadata": {
        "colab": {
          "base_uri": "https://localhost:8080/"
        },
        "id": "lqZfXDwNTIp_",
        "outputId": "67c3ef2a-5c8c-493f-8f12-e600159493f8"
      },
      "outputs": [
        {
          "data": {
            "text/plain": [
              "(71466, 6)"
            ]
          },
          "execution_count": 21,
          "metadata": {},
          "output_type": "execute_result"
        }
      ],
      "source": [
        "uber_features.shape"
      ]
    },
    {
      "cell_type": "code",
      "execution_count": 22,
      "metadata": {
        "colab": {
          "base_uri": "https://localhost:8080/"
        },
        "id": "zdCv_PvDTVNW",
        "outputId": "3fd56ce9-d726-465f-8bf9-a9db12abfcac"
      },
      "outputs": [
        {
          "data": {
            "text/plain": [
              "(71466, 6)"
            ]
          },
          "execution_count": 22,
          "metadata": {},
          "output_type": "execute_result"
        }
      ],
      "source": [
        "uber_features.shape"
      ]
    },
    {
      "cell_type": "code",
      "execution_count": 23,
      "metadata": {
        "id": "t4Jhnn7YTVYB"
      },
      "outputs": [],
      "source": [
        "from sklearn.preprocessing import StandardScaler\n",
        "scaler = StandardScaler()\n",
        "uber_scaled_features = scaler.fit_transform(uber_features)"
      ]
    },
    {
      "cell_type": "code",
      "execution_count": 24,
      "metadata": {
        "colab": {
          "base_uri": "https://localhost:8080/"
        },
        "id": "IR11vxM8TdqS",
        "outputId": "8b421b83-c1bd-4b6b-d75b-3ae70c212c9d"
      },
      "outputs": [
        {
          "data": {
            "text/plain": [
              "array([[-0.21619827, -0.13231788,  0.12391264, -0.13573058,  0.12825002,\n",
              "        -0.52118232],\n",
              "       [ 0.00837256, -0.13181844,  0.12232795, -0.13527601,  0.13271651,\n",
              "        -0.52118232],\n",
              "       [ 1.0790411 , -0.13279575,  0.12429068, -0.13223288,  0.13639442,\n",
              "        -0.52118232],\n",
              "       ...,\n",
              "       [ 1.4643858 , -0.13150663,  0.1232138 , -0.13515417,  0.12932347,\n",
              "         2.56280161],\n",
              "       [-0.10240058, -0.12972263,  0.12552119, -0.13154852,  0.13764418,\n",
              "        -0.52118232],\n",
              "       [-1.7279369 , -0.13067233,  0.12613293, -0.13389697,  0.13315314,\n",
              "        -0.52118232]])"
            ]
          },
          "execution_count": 24,
          "metadata": {},
          "output_type": "execute_result"
        }
      ],
      "source": [
        "uber_scaled_features"
      ]
    },
    {
      "cell_type": "code",
      "execution_count": 25,
      "metadata": {
        "id": "2_bS1nVETiLa"
      },
      "outputs": [],
      "source": [
        "from sklearn.model_selection import train_test_split\n",
        "uber_feature_train, uber_feature_test , uber_label_train, uber_label_test = train_test_split(uber_scaled_features, uber_labels, test_size=0.2, random_state=42)"
      ]
    },
    {
      "cell_type": "code",
      "execution_count": 26,
      "metadata": {
        "colab": {
          "base_uri": "https://localhost:8080/"
        },
        "id": "uza2RXnDTl73",
        "outputId": "8eeff087-15cf-4d45-e026-5f1695cd64ce"
      },
      "outputs": [
        {
          "data": {
            "text/plain": [
              "(57172, 6)"
            ]
          },
          "execution_count": 26,
          "metadata": {},
          "output_type": "execute_result"
        }
      ],
      "source": [
        "uber_feature_train.shape"
      ]
    },
    {
      "cell_type": "code",
      "execution_count": 27,
      "metadata": {
        "colab": {
          "base_uri": "https://localhost:8080/"
        },
        "id": "kWAKCohpTqe0",
        "outputId": "e2dca833-e4b5-437e-b91f-e610c9a976bf"
      },
      "outputs": [
        {
          "data": {
            "text/plain": [
              "(14294, 6)"
            ]
          },
          "execution_count": 27,
          "metadata": {},
          "output_type": "execute_result"
        }
      ],
      "source": [
        "uber_feature_test.shape"
      ]
    },
    {
      "cell_type": "code",
      "execution_count": 28,
      "metadata": {
        "colab": {
          "base_uri": "https://localhost:8080/"
        },
        "id": "N0PwLSUzTuhQ",
        "outputId": "9a2f8a49-e03a-4136-f3dd-2d9757534213"
      },
      "outputs": [
        {
          "data": {
            "text/plain": [
              "(57172,)"
            ]
          },
          "execution_count": 28,
          "metadata": {},
          "output_type": "execute_result"
        }
      ],
      "source": [
        "uber_label_train.shape"
      ]
    },
    {
      "cell_type": "code",
      "execution_count": 29,
      "metadata": {
        "colab": {
          "base_uri": "https://localhost:8080/"
        },
        "id": "UMBBHHhBT1mr",
        "outputId": "b3f33478-40f9-4ac9-fb3c-f92ff381776c"
      },
      "outputs": [
        {
          "data": {
            "text/plain": [
              "(14294,)"
            ]
          },
          "execution_count": 29,
          "metadata": {},
          "output_type": "execute_result"
        }
      ],
      "source": [
        "uber_label_test.shape"
      ]
    },
    {
      "cell_type": "code",
      "execution_count": 30,
      "metadata": {
        "colab": {
          "base_uri": "https://localhost:8080/"
        },
        "id": "diIW8jPYT8Jw",
        "outputId": "ba32d1b9-58d9-49cc-a832-ba0e1ed4a8f1"
      },
      "outputs": [
        {
          "data": {
            "text/plain": [
              "LinearRegression()"
            ]
          },
          "execution_count": 30,
          "metadata": {},
          "output_type": "execute_result"
        }
      ],
      "source": [
        "from sklearn.linear_model import LinearRegression\n",
        "lin_model = LinearRegression()\n",
        "lin_model.fit(uber_feature_train, uber_label_train)"
      ]
    },
    {
      "cell_type": "code",
      "execution_count": 31,
      "metadata": {
        "id": "Z2hgZQlsUBWS"
      },
      "outputs": [],
      "source": [
        "predicted_values = lin_model.predict(uber_feature_test)"
      ]
    },
    {
      "cell_type": "code",
      "execution_count": 34,
      "metadata": {
        "colab": {
          "base_uri": "https://localhost:8080/"
        },
        "id": "yRapbtQZUqkJ",
        "outputId": "62ac2f55-3ee6-4839-9d66-4ca4bafad7e2"
      },
      "outputs": [
        {
          "data": {
            "text/plain": [
              "10.162425838951679"
            ]
          },
          "execution_count": 34,
          "metadata": {},
          "output_type": "execute_result"
        }
      ],
      "source": [
        "from sklearn.metrics import mean_squared_error\n",
        "lin_mse = mean_squared_error(uber_label_test, predicted_values)\n",
        "lin_rmse = np.sqrt(lin_mse)\n",
        "lin_rmse"
      ]
    },
    {
      "cell_type": "code",
      "execution_count": null,
      "metadata": {
        "id": "Ma2pBw5WVA90"
      },
      "outputs": [],
      "source": []
    },
    {
      "cell_type": "code",
      "execution_count": 35,
      "metadata": {
        "colab": {
          "base_uri": "https://localhost:8080/"
        },
        "id": "Bh_1v9KpUuPf",
        "outputId": "565cbe16-9e7e-4385-861d-5908a47e18ed"
      },
      "outputs": [
        {
          "data": {
            "text/plain": [
              "-0.0002281804453063696"
            ]
          },
          "execution_count": 35,
          "metadata": {},
          "output_type": "execute_result"
        }
      ],
      "source": [
        "from sklearn.metrics import r2_score\n",
        "lin_r2 = r2_score(uber_label_test, predicted_values)\n",
        "lin_r2"
      ]
    },
    {
      "cell_type": "code",
      "execution_count": 36,
      "metadata": {
        "colab": {
          "base_uri": "https://localhost:8080/"
        },
        "id": "X90fgg6JUz1H",
        "outputId": "19bb31a7-2fd8-49d6-a72b-bb5e3a356881"
      },
      "outputs": [
        {
          "data": {
            "text/plain": [
              "RandomForestRegressor()"
            ]
          },
          "execution_count": 36,
          "metadata": {},
          "output_type": "execute_result"
        }
      ],
      "source": [
        "from sklearn.ensemble import RandomForestRegressor\n",
        "rand_model = RandomForestRegressor()\n",
        "rand_model.fit(uber_feature_train, uber_label_train)"
      ]
    },
    {
      "cell_type": "code",
      "execution_count": 37,
      "metadata": {
        "id": "sNdE1PAqVEIr"
      },
      "outputs": [],
      "source": [
        "predicted_values_rand = rand_model.predict(uber_feature_test)"
      ]
    },
    {
      "cell_type": "code",
      "execution_count": 38,
      "metadata": {
        "colab": {
          "base_uri": "https://localhost:8080/"
        },
        "id": "mu5mcL1bVMsp",
        "outputId": "1ee43633-fefc-46c8-e7ee-66cccf712de0"
      },
      "outputs": [
        {
          "data": {
            "text/plain": [
              "5.174084139966153"
            ]
          },
          "execution_count": 38,
          "metadata": {},
          "output_type": "execute_result"
        }
      ],
      "source": [
        "rand_mse = mean_squared_error(uber_label_test, predicted_values_rand)\n",
        "rand_rmse = np.sqrt(rand_mse)\n",
        "rand_rmse"
      ]
    },
    {
      "cell_type": "code",
      "execution_count": 39,
      "metadata": {
        "colab": {
          "base_uri": "https://localhost:8080/"
        },
        "id": "aRa5fG-ZVUUf",
        "outputId": "941bd640-cdd5-4afc-eca6-9ec3ec7011ae"
      },
      "outputs": [
        {
          "data": {
            "text/plain": [
              "0.740718648805428"
            ]
          },
          "execution_count": 39,
          "metadata": {},
          "output_type": "execute_result"
        }
      ],
      "source": [
        "rand_r2 = r2_score(uber_label_test, predicted_values_rand)\n",
        "rand_r2"
      ]
    }
  ],
  "metadata": {
    "colab": {
      "provenance": []
    },
    "kernelspec": {
      "display_name": "Python 3",
      "name": "python3"
    },
    "language_info": {
      "name": "python"
    }
  },
  "nbformat": 4,
  "nbformat_minor": 0
}
